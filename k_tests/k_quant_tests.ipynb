{
 "cells": [
  {
   "cell_type": "code",
   "execution_count": 2,
   "id": "44c49d78",
   "metadata": {},
   "outputs": [],
   "source": [
    "import numpy as np\n",
    "import math \n",
    "from matplotlib import pyplot as plt\n",
    "from scipy.stats import poisson\n",
    "from scipy.optimize import differential_evolution, least_squares, Bounds\n",
    "import seaborn as sns\n",
    "\n",
    "sns.set_style(style=\"whitegrid\")"
   ]
  },
  {
   "cell_type": "markdown",
   "id": "fa1bb773",
   "metadata": {},
   "source": [
    "# Quant Tests"
   ]
  },
  {
   "cell_type": "markdown",
   "id": "7135fca2",
   "metadata": {},
   "source": [
    "## Problem 1. \n",
    "\n",
    "A person rolls four six-faced dices, denote the sum as X. What is the probability that $13 <= X <= 15$?"
   ]
  },
  {
   "cell_type": "markdown",
   "id": "ecfaff38",
   "metadata": {},
   "source": [
    "## Solution 1. Simulation"
   ]
  },
  {
   "cell_type": "code",
   "execution_count": 7,
   "id": "9c4a1aa0",
   "metadata": {},
   "outputs": [
    {
     "data": {
      "text/plain": [
       "0.32916"
      ]
     },
     "execution_count": 7,
     "metadata": {},
     "output_type": "execute_result"
    }
   ],
   "source": [
    "rng = np.random.default_rng(42)\n",
    "\n",
    "size = 100000\n",
    "sums = np.zeros(size)\n",
    "\n",
    "for i in range(size): \n",
    "    draw = rng.uniform(1, 7, 4)\n",
    "    draw_int = np.floor(draw)  # Ensure we have integers\n",
    "    sums[i] = np.sum(draw_int)\n",
    "\n",
    "condition1 = sums >= 13 \n",
    "condition2 = sums <=15\n",
    "filtered_sums = sums[condition1 & condition2]\n",
    "\n",
    "p = len(filtered_sums) / size\n",
    "p\n"
   ]
  },
  {
   "cell_type": "markdown",
   "id": "0c730567",
   "metadata": {},
   "source": [
    "## Problem 2"
   ]
  },
  {
   "cell_type": "markdown",
   "id": "6b651ffb",
   "metadata": {},
   "source": [
    "### Question \n",
    "\n",
    "Suppose we estimate the probability of Sweden to win a football match\n",
    "with 2-1 to be p1 and, given that Sweden scores a goal, the probability\n",
    "that the star player scored it is p2. What is the probability that Sweden\n",
    "wins with 2-1 and the star player scored the first goal of the match?"
   ]
  },
  {
   "cell_type": "markdown",
   "id": "18807181",
   "metadata": {},
   "source": [
    "### Answer\n",
    "\n",
    "p1 * p2"
   ]
  },
  {
   "cell_type": "markdown",
   "id": "093bc3f8",
   "metadata": {},
   "source": [
    "#### Take 1\n",
    "##### Step1\n",
    "\n",
    "statement \"Given that Sweden scores a goal, the probability that the star player scored it is p2\"\n",
    "\n",
    "Q1. If Sweden scores two goals, what is the probability that the star player scores the first goal?\n",
    "\n",
    "P(star player scored both goals) + P(star player scored first goal but not the second one)  \n",
    "\n",
    "p2 * p2 + p2 * (1-p2) = p2\n",
    "\n",
    "##### Step2\n",
    "\n",
    "Q2. What is the probability that Sweden wins with 2-1 and the star player scored the first goal of the match?\n",
    "\n",
    "p1 * p2\n"
   ]
  },
  {
   "cell_type": "markdown",
   "id": "61ffeb4f",
   "metadata": {},
   "source": [
    "### Take 2\n",
    "\n",
    "We are asked to find the probabiity of \"Sweden wins a match with 2-1\" and \"The probability of the star player scored the goal of **the** match\". \n",
    "\n",
    "1. The probability can be broken down into \n",
    "   \n",
    "   P(Sweden wins a match with 2-1) and P(Sweden scores the first goal of the match | Sweden wins a match with 2-1) and P(The star player scores the goal | Sweden scores the first goal of the match). "
   ]
  },
  {
   "cell_type": "markdown",
   "id": "71354d2e",
   "metadata": {},
   "source": [
    "2. Looking at the second part \"P(Sweden scores the first goal of the match | Sweden wins a match with 2-1)\"\n",
    "   \n",
    "   P(A) Sweden scores the first goal of a match with a result of 2-1 that Sweden wins\n",
    "   \n",
    "   P(B) Sweden wins a match with 2-1 \n",
    "\n",
    "   To figure out P(A), three possible outcomes are \n",
    "   \n",
    "   SWE - SWE - OPP\n",
    "   \n",
    "   SWE - OPP - SWE\n",
    "   \n",
    "   OPP - SWE - SWE\n",
    "   \n",
    "   If we assume those three outcomes are equally likely to happen, (the assumption might be **false, why? motivate**)\n",
    "\n",
    "   P(Sweden scores the first goal of the match | Sweden wins a match with 2-1) = 2/3 * p1. \n",
    "\n"
   ]
  },
  {
   "cell_type": "code",
   "execution_count": null,
   "id": "19904fc8",
   "metadata": {},
   "outputs": [],
   "source": []
  },
  {
   "cell_type": "markdown",
   "id": "101727b1",
   "metadata": {},
   "source": [
    "## Problem 3"
   ]
  },
  {
   "cell_type": "markdown",
   "id": "84440eb7",
   "metadata": {},
   "source": [
    "### Question\n",
    "\n",
    "Estimate roughly the probability of a full-time draw in an even basketball game with 200 in expected points, motivate!"
   ]
  },
  {
   "cell_type": "markdown",
   "id": "2c484024",
   "metadata": {},
   "source": [
    "### Take 1. \n",
    "\n",
    "1. Assume the total points a team gets from a basketball match follows a normal distribution\n",
    "\n",
    "$X_1 \\sim N(\\mu_1, \\sigma_1^2)$\n",
    "\n",
    "$X_2 \\sim N(\\mu_2, \\sigma_2^2)$\n",
    "\n",
    "$X_1 + X_2 \\sim N(\\mu_1 + \\mu_2, \\sigma_1^2 + \\sigma_2^2)$\n"
   ]
  },
  {
   "cell_type": "markdown",
   "id": "2af6e358",
   "metadata": {},
   "source": [
    "2. The probability of a draw match is P(99.5 < X1 < 100.5) * P(99.5 < x2 < 100.5)"
   ]
  },
  {
   "cell_type": "markdown",
   "id": "6a8d2f7d",
   "metadata": {},
   "source": [
    "3. function Z takes a z-score and finds the probability under the normal distribution\n",
    "\n",
    "$P(99.5 < X_1 < 100.5) = Z(\\frac{100.5 - \\mu1}{\\sigma1}) - Z(\\frac{99.5 - \\mu1}{\\sigma1})$ \n",
    "\n",
    "$P(99.5 < X_2 < 100.5) = Z(\\frac{[100.5 - (200-\\mu1)]}{\\sigma2}) - Z(\\frac{[99.5 - (200-\\mu1)]}{\\sigma2})$ \n",
    "\n"
   ]
  },
  {
   "cell_type": "markdown",
   "id": "02b34841",
   "metadata": {},
   "source": [
    "### Take 2. "
   ]
  },
  {
   "cell_type": "markdown",
   "id": "70068e79",
   "metadata": {},
   "source": [
    "1. In a draw scenario, each team is expected to score 100 points. \n",
    "2. Model basket ball game score using Poisson distribution. Expected value $\\lambda$ = 100, and variance $\\lambda$ = 100. As basketball games have large numbers, we can use Normal distribution to approximate the Poisson distribution. \n",
    "\n",
    "$X_1 \\sim N(\\mu_1 = 100, \\sigma_1^2=100)$\n",
    "\n",
    "$X_2 \\sim N(\\mu_2 = 100, \\sigma_2^2=100)$\n",
    "\n",
    "\n",
    "3. The difference of scores between two teams can be modeled as D\n",
    "\n",
    "$D = X_1 - X2$\n",
    "\n",
    "$D \\sim N(\\mu_3 = 100 - 100, \\sigma_3^2=100+100)$\n",
    "\n",
    "$D \\sim N(\\mu_3 = 0, \\sigma_3=14.14)$\n",
    "\n",
    "4. The PDF for a normal distribution is \n",
    "$f(x) = \\dfrac{1}{\\sigma \\sqrt{2\\pi}}e^{-\\dfrac{(x-u)^2}{2\\sigma^2}}$\n",
    "\n",
    "solve for x = 0, mu = 0\n",
    "\n",
    "f(x) = 0.028\n",
    "\n",
    "5. As PDF is continous function, while basketball game scores are discrete. We approximate the probability by multiplying f(x=0) by 1 (1 unit is 1 score)\n",
    "\n",
    "prob = 0.028 * 1 = 0.028 = 2.8%\n",
    "\n"
   ]
  },
  {
   "cell_type": "markdown",
   "id": "62b3dbd2",
   "metadata": {},
   "source": []
  },
  {
   "cell_type": "markdown",
   "id": "5b549887",
   "metadata": {},
   "source": [
    "## Problem 4\n",
    "\n",
    "Using any programming language, find $\\lambda_1, \\lambda_2, \\lambda_3, \\lambda_4$ such that: \n",
    "\n",
    "$ X_n ~ Poisson(\\lambda_n) $\n",
    "\n",
    "$ P(X_n > X_{n+1}) = 0.55, \\forall n \\in \\{1, 2, 3\\} $\n",
    "\n",
    "$ P(X_4 > X_{1}) = 0.05 $\n"
   ]
  },
  {
   "cell_type": "markdown",
   "id": "aa21039d",
   "metadata": {},
   "source": [
    "### Step1. \n",
    "Define a function to find Poisson(lambda1) > Poisson(lambda2)\n",
    "\n",
    "$P(X_1 > X_2) = \\Sigma_{k=0}^\\infty P(X_1 > k) \\cdot P(X_2 = k)$\n",
    "\n",
    "$ \\qquad \\qquad \\qquad = \\Sigma_{k=0}^\\infty [1 - P(X_1 <= k)] \\cdot P(X_2 = k)$\n",
    "\n",
    "$P(X_2 = k) $ is the pmf of poisson distribution with lambda2\n",
    "\n",
    "$P(X_1 <= k) $ is the cdf of poisson distribution with lambda1"
   ]
  },
  {
   "cell_type": "code",
   "execution_count": 28,
   "id": "5819cbcf",
   "metadata": {},
   "outputs": [],
   "source": [
    "def prob_x1_gt_x2(lambda1, lambda2): \n",
    "    max_k = int(lambda1 * 3)\n",
    "    probs = 0.0\n",
    "    for k in range(max_k + 1):\n",
    "        p_x1 = poisson.cdf(k, lambda1)\n",
    "        p_x2 = poisson.pmf(k, lambda2)\n",
    "        p_x1_gt_x2 = (1 - p_x1) * p_x2\n",
    "        probs += p_x1_gt_x2\n",
    "\n",
    "    return probs"
   ]
  },
  {
   "cell_type": "code",
   "execution_count": 9,
   "id": "40a31c8b",
   "metadata": {},
   "outputs": [
    {
     "data": {
      "text/plain": [
       "np.float64(0.8314310864698599)"
      ]
     },
     "execution_count": 9,
     "metadata": {},
     "output_type": "execute_result"
    }
   ],
   "source": [
    "prob_x1_gt_x2(5, 2)"
   ]
  },
  {
   "cell_type": "markdown",
   "id": "0992af2d",
   "metadata": {},
   "source": [
    "### Step2. \n",
    "\n",
    "The problem can be rephrased into an optimization problem to minize the following objective function\n",
    "\n",
    "$ obj\\_f1 = P(X_1 > X_2) - 0.55 = 0 $\n",
    "\n",
    "$ obj\\_f2 = P(X_2 > X_3) - 0.55 = 0 $\n",
    "\n",
    "$ obj\\_f3 = P(X_3 > X_4) - 0.55 = 0 $\n",
    "\n",
    "$ obj\\_f4 = P(X_4 > X_1) - 0.05 = 0 $\n",
    "\n",
    "objective_function = SSE(obj\\_f1 + obj\\_f1+ obj\\_f1+ obj\\_f1)\n",
    "\n"
   ]
  },
  {
   "cell_type": "code",
   "execution_count": 10,
   "id": "36560fc8",
   "metadata": {},
   "outputs": [],
   "source": [
    "def objective_function(lambdas):\n",
    "    lambda1, lambda2, lambda3, lambda4 = lambdas\n",
    "    objective_func = (prob_x1_gt_x2(lambda1, lambda2) - 0.55) **2 \\\n",
    "                    + (prob_x1_gt_x2(lambda2, lambda3) - 0.55) **2 \\\n",
    "                    + (prob_x1_gt_x2(lambda3, lambda4) - 0.55) **2 \\\n",
    "                    + (prob_x1_gt_x2(lambda4, lambda1) - 0.05) **2\n",
    "    return objective_func"
   ]
  },
  {
   "cell_type": "markdown",
   "id": "f3111761",
   "metadata": {},
   "source": [
    "### Step 3a. Optimization\n",
    "Selection of optimization method"
   ]
  },
  {
   "cell_type": "code",
   "execution_count": 16,
   "id": "2218c50e",
   "metadata": {},
   "outputs": [
    {
     "data": {
      "text/plain": [
       "array([5., 4., 3., 2.])"
      ]
     },
     "execution_count": 16,
     "metadata": {},
     "output_type": "execute_result"
    }
   ],
   "source": [
    "x0 = np.array([10, 8, 6, 4])\n",
    "bounds = [(1, 50), (1, 50), (1, 50), (1, 50)]\n",
    "\n",
    "def constraint1(lambdas):\n",
    "    return lambdas[0] - lambdas[1]\n",
    "\n",
    "def constraint2(lambdas):\n",
    "    return lambdas[1] - lambdas[2]\n",
    "\n",
    "def constraint3(lambdas):\n",
    "    return lambdas[2] - lambdas[3]\n",
    "\n",
    "constraints = [{'type': 'ineq', 'fun': constraint1},\n",
    "               {'type': 'ineq', 'fun': constraint2},\n",
    "               {'type': 'ineq', 'fun': constraint3}]\n",
    "\n",
    "\n",
    "result = differential_evolution(objective_function, bounds=bounds,\n",
    "                                integrality=[True, True, True, True])\n",
    "result.x"
   ]
  },
  {
   "cell_type": "code",
   "execution_count": 17,
   "id": "0c042e73",
   "metadata": {},
   "outputs": [
    {
     "name": "stdout",
     "output_type": "stream",
     "text": [
      "P(X1 > X2) = 0.5649279840696295for lambda1=5.0, lambda2=4.0\n",
      "P(X2 > X3) = 0.5730924425091223for lambda1=4.0, lambda2=3.0\n",
      "P(X3 > X4) = 0.5852894030865728for lambda1=3.0, lambda2=2.0\n",
      "P(X4 > X1) = 0.08593362671054156for lambda1=2.0, lambda2=5.0\n"
     ]
    }
   ],
   "source": [
    "# Verify the results\n",
    "\n",
    "lambda1 = result.x[0]\n",
    "lambda2 = result.x[1]\n",
    "lambda3 = result.x[2]\n",
    "lambda4 = result.x[3]\n",
    "print(f\"P(X1 > X2) = {prob_x1_gt_x2(lambda1, lambda2)}for lambda1={lambda1}, lambda2={lambda2}\")\n",
    "print(f\"P(X2 > X3) = {prob_x1_gt_x2(lambda2, lambda3)}for lambda1={lambda2}, lambda2={lambda3}\")\n",
    "print(f\"P(X3 > X4) = {prob_x1_gt_x2(lambda3, lambda4)}for lambda1={lambda3}, lambda2={lambda4}\")\n",
    "print(f\"P(X4 > X1) = {prob_x1_gt_x2(lambda4, lambda1)}for lambda1={lambda4}, lambda2={lambda1}\")"
   ]
  },
  {
   "cell_type": "markdown",
   "id": "e4bc3040",
   "metadata": {},
   "source": [
    "### Step 3b. For loops"
   ]
  },
  {
   "cell_type": "code",
   "execution_count": 37,
   "id": "d9b06268",
   "metadata": {},
   "outputs": [
    {
     "data": {
      "text/plain": [
       "np.int64(49)"
      ]
     },
     "execution_count": 37,
     "metadata": {},
     "output_type": "execute_result"
    }
   ],
   "source": [
    "# instead of using simulation, let's use for loops\n",
    "max_lambda = 20\n",
    "combinations = []\n",
    "errors = []\n",
    "for l1 in range(1, max_lambda + 1): \n",
    "    for l2 in range(1, l1 + 1):\n",
    "        for l3 in range(1, l2 + 1):\n",
    "            for l4 in range(1, l3 + 1):\n",
    "                p12 = prob_x1_gt_x2(l1, l2)\n",
    "                p23 = prob_x1_gt_x2(l2, l3)\n",
    "                p34 = prob_x1_gt_x2(l3, l4)\n",
    "                p41 = prob_x1_gt_x2(l4, l1)\n",
    "                \n",
    "                e1 = (p12 - 0.55)**2\n",
    "                e2 = (p23 - 0.55)**2\n",
    "                e3 = (p34 - 0.55)**2\n",
    "                e4 = (p41 - 0.05)**2\n",
    "\n",
    "                sum_error = e1 + e2 + e3 + e4\n",
    "                combinations.append([l1, l2, l3, l4])\n",
    "                errors.append([sum_error])\n",
    "\n",
    "errors = np.array(errors)\n",
    "index = np.argmin(errors)\n",
    "index"
   ]
  },
  {
   "cell_type": "code",
   "execution_count": 34,
   "id": "40e5dae1",
   "metadata": {},
   "outputs": [
    {
     "data": {
      "text/plain": [
       "[5, 4, 3, 2]"
      ]
     },
     "execution_count": 34,
     "metadata": {},
     "output_type": "execute_result"
    }
   ],
   "source": [
    "len(errors)\n",
    "best_combination = combinations[index]\n",
    "best_combination"
   ]
  },
  {
   "cell_type": "markdown",
   "id": "b9b56501",
   "metadata": {},
   "source": [
    "### Problem 5"
   ]
  },
  {
   "cell_type": "markdown",
   "id": "a8bcd65e",
   "metadata": {},
   "source": [
    "There are many ways to express odds. At This company we mainly use decimal odds. If a player places a bet of €x at odds w on some outcome, the player will give €x to the bookmaker. In exchange the bookmaker promises to pay out $€x \\cdot w$ if the outcome wins. Consider a player that has placed the bets listed in Table 1. The bets are on different football matches and can therefore safely be assumed to be independent. The player has won 4 of 10 bets and made a profit of €2483.45. Does this history suggest the player is skilled and can be expected to have an edge against the bookmaker in\n",
    "the future?\n",
    "\n",
    "| Outcome              | Odds | Result | Stake  | Payout | Financial Result |\n",
    "|----------------------|------|--------|--------|--------|------------------|\n",
    "| Over 2.5 goals       | 1.74 | won    | 100    | 174    | 74               |\n",
    "| Over 2.5 goals       | 1.86 | lost   | 100    | 0      | -100             |\n",
    "| Over 2.5 goals       | 1.57 | lost   | 150    | 0      | -150             |\n",
    "| Home to win          | 12.0 | won    | 250    | 3000   | 2750             |\n",
    "| Home to win          | 1.95 | lost   | 200    | 0      | -200             |\n",
    "| Both teams to score  | 2.23 | lost   | 75     | 0      | -75              |\n",
    "| Both teams to score  | 1.53 | won    | 65     | 99.45  | 34.45            |\n",
    "| Over 12.5 corners    | 4.10 | lost   | 50     | 0      | -50              |\n",
    "| Over 12.5 corners    | 4.25 | lost   | 125    | 0      | -125             |\n",
    "| Over 12.5 corners    | 4.25 | won    | 100    | 425    | 325              |"
   ]
  },
  {
   "cell_type": "code",
   "execution_count": 122,
   "id": "a977aef2",
   "metadata": {},
   "outputs": [
    {
     "name": "stdout",
     "output_type": "stream",
     "text": [
      "Median profit: -229.5, Mean profit: -1.5384335000000198, Mean return: -0.00126620041152265\n"
     ]
    }
   ],
   "source": [
    "odds = np.array([1.74,1.86,1.57,12,1.95,2.23,1.53,4.1,4.25,4.25])\n",
    "win_prob = 1 / odds\n",
    "stakes = np.array([100,100,150,250,200,75,65,50,125,100])\n",
    "observed_profit = 2483.45\n",
    "\n",
    "\n",
    "n_trials = 100000\n",
    "win_lose = np.ndarray([n_trials, len(win_prob)])\n",
    "\n",
    "for i in range(len(win_prob)):\n",
    "    b = np.random.binomial(1, win_prob[i], size=n_trials)\n",
    "    b = np.astype(b, int)\n",
    "    win_lose[:, i] = b\n",
    "\n",
    "payout = win_lose * stakes * odds\n",
    "sum_payout = np.sum(payout, axis=1)\n",
    "profit = sum_payout - np.sum(stakes)\n",
    "\n",
    "median = np.median(profit)\n",
    "mean = np.mean(profit)\n",
    "\n",
    "print(f\"Median profit: {median}, Mean profit: {mean}, Mean return: {mean / np.sum(stakes)}\")\n"
   ]
  },
  {
   "cell_type": "code",
   "execution_count": 123,
   "id": "a0576a47",
   "metadata": {},
   "outputs": [
    {
     "data": {
      "image/png": "[encoded data removed]",
      "text/plain": [
       "<Figure size 640x480 with 1 Axes>"
      ]
     },
     "metadata": {},
     "output_type": "display_data"
    }
   ],
   "source": [
    "plt.hist(profit, bins=50, density=True, color='C0', alpha=0.7)\n",
    "plt.title(\"Distribution of Total Profits\")\n",
    "plt.xlabel(\"Total Profit\")\n",
    "plt.ylabel(\"Density\")\n",
    "\n",
    "plt.axvline(observed_profit, color='C1', linestyle=\"dashed\", linewidth=2, label='Observed Profit')\n",
    "plt.axvline(median, color='C2', linestyle=\"dashed\", linewidth=2, label='Median')\n",
    "plt.axvline(mean, color='C3',  linestyle=\"dashed\", linewidth=2, label='Mean')\n",
    "\n",
    "\n",
    "plt.legend()\n",
    "plt.show()"
   ]
  },
  {
   "cell_type": "code",
   "execution_count": 99,
   "id": "c8288dc4",
   "metadata": {},
   "outputs": [
    {
     "data": {
      "text/plain": [
       "np.float64(0.94147)"
      ]
     },
     "execution_count": 99,
     "metadata": {},
     "output_type": "execute_result"
    }
   ],
   "source": [
    "prob = np.sum(profit < observed_profit) / n_trials\n",
    "prob"
   ]
  },
  {
   "cell_type": "markdown",
   "id": "a53e3384",
   "metadata": {},
   "source": [
    "### Answer\n",
    "\n",
    "#### Interpretation from the simulation and sample data\n",
    "1. In the 4th bet, the player placed the highest stake $250 at Odds 12.0. This might contribute to the fat tail in the right. \n",
    "2. From the simulation, the player **does not** have a clear edge against the bookmaker. The mean profit is very close to zero and the return on bets is < 1% even if he wins. \n",
    "3. The observed profit is at 94 percentile. So he is rather lucky this time. "
   ]
  },
  {
   "cell_type": "markdown",
   "id": "a72e43d9",
   "metadata": {},
   "source": [
    "#### Interpretation from statistical analysis\n",
    "\n",
    "I also calculated the Expected Value of profit using the player's stakes in this sheet / excel. \n",
    "\n",
    "https://docs.google.com/spreadsheets/d/1p8UyqltXb56toM6tDNE-4HY_L9M-Ks5RpNY09S_bBP0/edit?usp=sharing\n",
    "\n",
    "* Assume bookmaker's implied probabilities are true probabilities, \n",
    "\n",
    " * and without making any assumption of the distribution of the profits, \n",
    "\n",
    "the profit has a mean of almost 0 and standard deviation of 924. \n",
    "\n",
    "The observed profit $2483.45 from the player has a z-score of 2.68, it **appears** to be very good"
   ]
  },
  {
   "cell_type": "markdown",
   "id": "06538c5f",
   "metadata": {},
   "source": [
    "However, as the samples have only 10 observations and the player won the yolo-bet (4th bet). So we might have just p-hacked. "
   ]
  }
 ],
 "metadata": {
  "kernelspec": {
   "display_name": "p312",
   "language": "python",
   "name": "python3"
  },
  "language_info": {
   "codemirror_mode": {
    "name": "ipython",
    "version": 3
   },
   "file_extension": ".py",
   "mimetype": "text/x-python",
   "name": "python",
   "nbconvert_exporter": "python",
   "pygments_lexer": "ipython3",
   "version": "3.12.2"
  }
 },
 "nbformat": 4,
 "nbformat_minor": 5
}
