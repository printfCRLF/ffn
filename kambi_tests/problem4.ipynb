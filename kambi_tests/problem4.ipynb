{
 "cells": [
  {
   "cell_type": "code",
   "execution_count": null,
   "id": "4c3c4c3c",
   "metadata": {},
   "outputs": [],
   "source": [
    "import numpy as np \n",
    "from scipy.stats import poisson\n",
    "from scipy.optimize import differential_evolution, Bounds"
   ]
  },
  {
   "cell_type": "markdown",
   "id": "23f09a54",
   "metadata": {},
   "source": [
    "## Problem 4"
   ]
  },
  {
   "cell_type": "markdown",
   "id": "142bfdd8",
   "metadata": {},
   "source": [
    "### Step1. \n",
    "Define a function to find Poisson(lambda1) > Poisson(lambda2)\n",
    "\n",
    "$P(X_1 > X_2) = \\Sigma_{k=0}^\\infty P(X_1 > k) \\cdot P(X_2 = k)$\n",
    "\n",
    "$ \\qquad \\qquad \\qquad = \\Sigma_{k=0}^\\infty [1 - P(X_1 <= k)] \\cdot P(X_2 = k)$\n",
    "\n",
    "$P(X_2 = k) $ is the pmf of poisson distribution with lambda2\n",
    "\n",
    "$P(X_1 <= k) $ is the cdf of poisson distribution with lambda1"
   ]
  },
  {
   "cell_type": "code",
   "execution_count": 45,
   "id": "d08fcd3d",
   "metadata": {},
   "outputs": [],
   "source": [
    "def prob_x1_gt_x2(lambda1, lambda2): \n",
    "    max_k = int(lambda1 * 3)\n",
    "    probs = 0.0\n",
    "    for k in range(max_k + 1):\n",
    "        p_x1 = poisson.cdf(k, lambda1)\n",
    "        p_x2 = poisson.pmf(k, lambda2)\n",
    "        p_x1_gt_x2 = (1 - p_x1) * p_x2\n",
    "        probs += p_x1_gt_x2\n",
    "\n",
    "    return probs"
   ]
  },
  {
   "cell_type": "code",
   "execution_count": 46,
   "id": "67d6a464",
   "metadata": {},
   "outputs": [
    {
     "data": {
      "text/plain": [
       "np.float64(0.8314310864698599)"
      ]
     },
     "execution_count": 46,
     "metadata": {},
     "output_type": "execute_result"
    }
   ],
   "source": [
    "prob_x1_gt_x2(5, 2)"
   ]
  },
  {
   "cell_type": "markdown",
   "id": "7f82731d",
   "metadata": {},
   "source": [
    "### Step2. \n",
    "\n",
    "The problem can be rephrased into optimization problem to minize the following objective function\n",
    "\n",
    "$ obj\\_f1 = P(X_1 > X_2) - 0.55 = 0 $\n",
    "\n",
    "$ obj\\_f2 = P(X_2 > X_3) - 0.55 = 0 $\n",
    "\n",
    "$ obj\\_f3 = P(X_3 > X_4) - 0.55 = 0 $\n",
    "\n",
    "$ obj\\_f4 = P(X_4 > X_1) - 0.05 = 0 $\n",
    "\n",
    "objective_function = SSE(obj\\_f1 + obj\\_f1+ obj\\_f1+ obj\\_f1)\n",
    "\n"
   ]
  },
  {
   "cell_type": "code",
   "execution_count": 47,
   "id": "2f74fcc5",
   "metadata": {},
   "outputs": [],
   "source": [
    "def objective_function(lambdas):\n",
    "    lambda1, lambda2, lambda3, lambda4 = lambdas\n",
    "    objective_func = (prob_x1_gt_x2(lambda1, lambda2) - 0.55) **2 \\\n",
    "                    + (prob_x1_gt_x2(lambda2, lambda3) - 0.55) **2 \\\n",
    "                    + (prob_x1_gt_x2(lambda3, lambda4) - 0.55) **2 \\\n",
    "                    + (prob_x1_gt_x2(lambda4, lambda1) - 0.05) **2\n",
    "    return objective_func"
   ]
  },
  {
   "cell_type": "markdown",
   "id": "a6e3d567",
   "metadata": {},
   "source": [
    "### Step 3. \n",
    "Selection of optimization method"
   ]
  },
  {
   "cell_type": "code",
   "execution_count": 48,
   "id": "2466c001",
   "metadata": {},
   "outputs": [
    {
     "data": {
      "text/plain": [
       "array([5., 4., 3., 2.])"
      ]
     },
     "execution_count": 48,
     "metadata": {},
     "output_type": "execute_result"
    }
   ],
   "source": [
    "x0 = np.array([10, 8, 6, 4])\n",
    "bounds = [(1, 200), (1, 200), (1, 200), (1, 200)]\n",
    "result = differential_evolution(objective_function, bounds=bounds, integrality=[True, True, True, True])\n",
    "result.x"
   ]
  },
  {
   "cell_type": "markdown",
   "id": "d260a71e",
   "metadata": {},
   "source": [
    "Verify the result"
   ]
  },
  {
   "cell_type": "code",
   "execution_count": 49,
   "id": "299c3c0f",
   "metadata": {},
   "outputs": [
    {
     "name": "stdout",
     "output_type": "stream",
     "text": [
      "P(X1 > X2) = 0.5649279840696295for lambda1=5.0, lambda2=4.0\n",
      "P(X2 > X3) = 0.5730924425091223for lambda1=4.0, lambda2=3.0\n",
      "P(X3 > X4) = 0.5852894030865728for lambda1=3.0, lambda2=2.0\n",
      "P(X4 > X1) = 0.08593362671054156for lambda1=2.0, lambda2=5.0\n"
     ]
    }
   ],
   "source": [
    "lambda1 = result.x[0]\n",
    "lambda2 = result.x[1]\n",
    "lambda3 = result.x[2]\n",
    "lambda4 = result.x[3]\n",
    "print(f\"P(X1 > X2) = {prob_x1_gt_x2(lambda1, lambda2)}for lambda1={lambda1}, lambda2={lambda2}\")\n",
    "print(f\"P(X2 > X3) = {prob_x1_gt_x2(lambda2, lambda3)}for lambda1={lambda2}, lambda2={lambda3}\")\n",
    "print(f\"P(X3 > X4) = {prob_x1_gt_x2(lambda3, lambda4)}for lambda1={lambda3}, lambda2={lambda4}\")\n",
    "print(f\"P(X4 > X1) = {prob_x1_gt_x2(lambda4, lambda1)}for lambda1={lambda4}, lambda2={lambda1}\")"
   ]
  }
 ],
 "metadata": {
  "kernelspec": {
   "display_name": "p312",
   "language": "python",
   "name": "python3"
  },
  "language_info": {
   "codemirror_mode": {
    "name": "ipython",
    "version": 3
   },
   "file_extension": ".py",
   "mimetype": "text/x-python",
   "name": "python",
   "nbconvert_exporter": "python",
   "pygments_lexer": "ipython3",
   "version": "3.12.2"
  }
 },
 "nbformat": 4,
 "nbformat_minor": 5
}
