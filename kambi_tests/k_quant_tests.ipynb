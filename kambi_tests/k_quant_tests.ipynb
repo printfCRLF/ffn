{
 "cells": [
  {
   "cell_type": "code",
   "execution_count": 3,
   "id": "44c49d78",
   "metadata": {},
   "outputs": [],
   "source": [
    "import numpy as np\n",
    "import math "
   ]
  },
  {
   "cell_type": "markdown",
   "id": "fa1bb773",
   "metadata": {},
   "source": [
    "# Quant Tests"
   ]
  },
  {
   "cell_type": "markdown",
   "id": "7135fca2",
   "metadata": {},
   "source": [
    "## Problem 1. "
   ]
  },
  {
   "cell_type": "code",
   "execution_count": 13,
   "id": "9c4a1aa0",
   "metadata": {},
   "outputs": [
    {
     "data": {
      "text/plain": [
       "0.32916"
      ]
     },
     "execution_count": 13,
     "metadata": {},
     "output_type": "execute_result"
    }
   ],
   "source": [
    "rng = np.random.default_rng(42)\n",
    "\n",
    "size = 100000\n",
    "sums = np.zeros(size)\n",
    "\n",
    "for i in range(size): \n",
    "    draw = rng.uniform(1, 7, 4)\n",
    "    draw_int = np.floor(draw)  # Ensure we have integers\n",
    "    sums[i] = np.sum(draw_int)\n",
    "\n",
    "condition1 = sums >= 13 \n",
    "condition2 = sums <=15\n",
    "filtered_sums = sums[condition1 & condition2]\n",
    "\n",
    "p = len(filtered_sums) / size\n",
    "p\n"
   ]
  },
  {
   "cell_type": "markdown",
   "id": "0c730567",
   "metadata": {},
   "source": [
    "## Problem 2"
   ]
  },
  {
   "cell_type": "markdown",
   "id": "6b651ffb",
   "metadata": {},
   "source": [
    "### Question \n",
    "\n",
    "Suppose we estimate the probability of Sweden to win a football match\n",
    "with 2-1 to be p1 and, given that Sweden scores a goal, the probability\n",
    "that the star player scored it is p2. What is the probability that Sweden\n",
    "wins with 2-1 and the star player scored the first goal of the match?"
   ]
  },
  {
   "cell_type": "markdown",
   "id": "18807181",
   "metadata": {},
   "source": [
    "### Answer\n",
    "\n",
    "p1 * p2"
   ]
  },
  {
   "cell_type": "markdown",
   "id": "093bc3f8",
   "metadata": {},
   "source": [
    "#### Step1\n",
    "\n",
    "statement \"Given that Sweden scores a goal, the probability that the star player scored it is p2\"\n",
    "\n",
    "Q1. If Sweden scores two goals, what is the probability that the star player scores the first goal?\n",
    "\n",
    "P(star player scored both goals) + P(star player scored first goal but not the second one)  \n",
    "\n",
    "p2 * p2 + p2 * (1-p2) = p2\n"
   ]
  },
  {
   "cell_type": "markdown",
   "id": "61ffeb4f",
   "metadata": {},
   "source": [
    "#### Step2\n",
    "\n",
    "Q2. What is the probability that Sweden wins with 2-1 and the star player scored the first goal of the match?\n",
    "\n",
    "p1 * p2"
   ]
  },
  {
   "cell_type": "markdown",
   "id": "101727b1",
   "metadata": {},
   "source": []
  }
 ],
 "metadata": {
  "kernelspec": {
   "display_name": "p312",
   "language": "python",
   "name": "python3"
  },
  "language_info": {
   "codemirror_mode": {
    "name": "ipython",
    "version": 3
   },
   "file_extension": ".py",
   "mimetype": "text/x-python",
   "name": "python",
   "nbconvert_exporter": "python",
   "pygments_lexer": "ipython3",
   "version": "3.12.2"
  }
 },
 "nbformat": 4,
 "nbformat_minor": 5
}
