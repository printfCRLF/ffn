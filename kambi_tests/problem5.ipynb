{
 "cells": [
  {
   "cell_type": "code",
   "execution_count": 6,
   "id": "9cd14bf3",
   "metadata": {},
   "outputs": [],
   "source": [
    "import numpy as np\n",
    "import math \n",
    "from matplotlib import pyplot as plt\n",
    "from scipy.stats import poisson\n",
    "from scipy.optimize import differential_evolution, least_squares, Bounds"
   ]
  },
  {
   "cell_type": "markdown",
   "id": "3b267094",
   "metadata": {},
   "source": [
    "# Problem 5"
   ]
  },
  {
   "cell_type": "code",
   "execution_count": 7,
   "id": "5530ab8d",
   "metadata": {},
   "outputs": [
    {
     "data": {
      "text/plain": [
       "array([[100., 100., 150., ...,   0.,   0.,   0.],\n",
       "       [100.,   0.,   0., ...,  50., 125.,   0.],\n",
       "       [  0., 100., 150., ...,  50.,   0.,   0.],\n",
       "       ...,\n",
       "       [  0., 100., 150., ...,   0.,   0.,   0.],\n",
       "       [  0.,   0., 150., ...,   0.,   0.,   0.],\n",
       "       [100.,   0.,   0., ...,  50.,   0.,   0.]])"
      ]
     },
     "execution_count": 7,
     "metadata": {},
     "output_type": "execute_result"
    }
   ],
   "source": [
    "odds = np.array([1.74,1.86,1.57,12,1.95,2.23,1.53,4.1,4.25,4.25])\n",
    "win_prob = 1 / odds\n",
    "stakes = np.array([100,100,150,250,200,75,65,50,125,100])\n",
    "\n",
    "n_trials = 10000\n",
    "win_lose = np.ndarray([n_trials, len(win_prob)])\n",
    "\n",
    "for i in range(len(win_prob)):\n",
    "    b = np.random.binomial(1, win_prob[i], size=n_trials)\n",
    "    b = np.astype(b, int)\n",
    "    win_lose[:, i] = b\n",
    "\n",
    "result = win_lose * stakes\n",
    "result\n"
   ]
  },
  {
   "cell_type": "code",
   "execution_count": 8,
   "id": "4e18313c",
   "metadata": {},
   "outputs": [
    {
     "data": {
      "text/plain": [
       "array([[174.  , 186.  , 235.5 , ...,   0.  ,   0.  ,   0.  ],\n",
       "       [174.  ,   0.  ,   0.  , ..., 205.  , 531.25,   0.  ],\n",
       "       [  0.  , 186.  , 235.5 , ..., 205.  ,   0.  ,   0.  ],\n",
       "       ...,\n",
       "       [  0.  , 186.  , 235.5 , ...,   0.  ,   0.  ,   0.  ],\n",
       "       [  0.  ,   0.  , 235.5 , ...,   0.  ,   0.  ,   0.  ],\n",
       "       [174.  ,   0.  ,   0.  , ..., 205.  ,   0.  ,   0.  ]])"
      ]
     },
     "execution_count": 8,
     "metadata": {},
     "output_type": "execute_result"
    }
   ],
   "source": [
    "payout = result * odds \n",
    "payout"
   ]
  },
  {
   "cell_type": "code",
   "execution_count": null,
   "id": "6a1c9a66",
   "metadata": {},
   "outputs": [
    {
     "data": {
      "text/plain": [
       "array([1016.7 , 1084.95, 1245.2 , ..., 1373.95,  360.  , 4108.  ])"
      ]
     },
     "execution_count": 9,
     "metadata": {},
     "output_type": "execute_result"
    }
   ],
   "source": [
    "total_payout = payout.sum(axis=1)\n"
   ]
  },
  {
   "cell_type": "code",
   "execution_count": 10,
   "id": "df58ae3f",
   "metadata": {},
   "outputs": [
    {
     "data": {
      "text/plain": [
       "array([  37.2 , -205.3 , -198.5 , ..., -236.25, -322.8 , 2430.7 ])"
      ]
     },
     "execution_count": 10,
     "metadata": {},
     "output_type": "execute_result"
    }
   ],
   "source": [
    "total_profit = total_payout - stakes.sum()\n",
    "total_profit"
   ]
  },
  {
   "cell_type": "code",
   "execution_count": 11,
   "id": "56bb73d4",
   "metadata": {},
   "outputs": [
    {
     "data": {
      "image/png": "[encoded data removed]",
      "text/plain": [
       "<Figure size 640x480 with 1 Axes>"
      ]
     },
     "metadata": {},
     "output_type": "display_data"
    }
   ],
   "source": [
    "plt.hist(total_profit, bins=50, density=True)\n",
    "plt.show()"
   ]
  }
 ],
 "metadata": {
  "kernelspec": {
   "display_name": "p312",
   "language": "python",
   "name": "python3"
  },
  "language_info": {
   "codemirror_mode": {
    "name": "ipython",
    "version": 3
   },
   "file_extension": ".py",
   "mimetype": "text/x-python",
   "name": "python",
   "nbconvert_exporter": "python",
   "pygments_lexer": "ipython3",
   "version": "3.12.2"
  }
 },
 "nbformat": 4,
 "nbformat_minor": 5
}
